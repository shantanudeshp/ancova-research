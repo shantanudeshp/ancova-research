{
 "cells": [
  {
   "cell_type": "code",
   "execution_count": 117,
   "id": "7649fc4b-ee3d-4e93-9a0c-9be4f533dd76",
   "metadata": {},
   "outputs": [],
   "source": [
    "import os\n",
    "import pandas as pd\n",
    "import numpy as np\n",
    "import matplotlib.pyplot as plt\n",
    "from sklearn.linear_model import LinearRegression\n",
    "from sklearn.metrics import mean_squared_error, r2_score\n",
    "from sklearn.model_selection import train_test_split\n",
    "from ta.momentum import RSIIndicator\n",
    "from ta.trend import MACD"
   ]
  },
  {
   "cell_type": "code",
   "execution_count": 118,
   "id": "3794fa94-9d07-4335-b4e9-0715bdd4da2e",
   "metadata": {},
   "outputs": [],
   "source": [
    "data_folder = os.path.join(os.getcwd(), \"stocks\")"
   ]
  },
  {
   "cell_type": "code",
   "execution_count": 119,
   "id": "64bbe5c1-ac63-4c85-8f81-243a5167b331",
   "metadata": {},
   "outputs": [],
   "source": [
    "all_data = []\n",
    "\n",
    "for filename in os.listdir(data_folder):\n",
    "    if filename.endswith(\".csv\"):\n",
    "        stock_symbol = filename.split(\".\")[0]  # Extract stock symbol from filename\n",
    "        file_path = os.path.join(data_folder, filename)\n",
    "        \n",
    "        # Read the CSV file\n",
    "        stock_data = pd.read_csv(file_path)\n",
    "        \n",
    "        # Check if DataFrame is empty\n",
    "        if not stock_data.empty:\n",
    "            stock_data['Symbol'] = stock_symbol  # Add stock symbol column\n",
    "            all_data.append(stock_data)\n",
    "\n",
    "# Concatenate all non-empty DataFrames\n",
    "if all_data:  # Only concatenate if there's data\n",
    "    data = pd.concat(all_data, ignore_index=True)\n",
    "else:\n",
    "    print(\"No valid data found in the stocks folder.\")"
   ]
  },
  {
   "cell_type": "code",
   "execution_count": 120,
   "id": "b767346c-865e-4b94-87a2-e30f71d22482",
   "metadata": {},
   "outputs": [
    {
     "data": {
      "text/html": [
       "<div>\n",
       "<style scoped>\n",
       "    .dataframe tbody tr th:only-of-type {\n",
       "        vertical-align: middle;\n",
       "    }\n",
       "\n",
       "    .dataframe tbody tr th {\n",
       "        vertical-align: top;\n",
       "    }\n",
       "\n",
       "    .dataframe thead th {\n",
       "        text-align: right;\n",
       "    }\n",
       "</style>\n",
       "<table border=\"1\" class=\"dataframe\">\n",
       "  <thead>\n",
       "    <tr style=\"text-align: right;\">\n",
       "      <th></th>\n",
       "      <th>Date</th>\n",
       "      <th>Open</th>\n",
       "      <th>High</th>\n",
       "      <th>Low</th>\n",
       "      <th>Close</th>\n",
       "      <th>Adj Close</th>\n",
       "      <th>Volume</th>\n",
       "      <th>Symbol</th>\n",
       "    </tr>\n",
       "  </thead>\n",
       "  <tbody>\n",
       "    <tr>\n",
       "      <th>0</th>\n",
       "      <td>2014-10-17</td>\n",
       "      <td>22.980000</td>\n",
       "      <td>23.33</td>\n",
       "      <td>22.920000</td>\n",
       "      <td>23.25</td>\n",
       "      <td>16.999857</td>\n",
       "      <td>28485000</td>\n",
       "      <td>CSCO</td>\n",
       "    </tr>\n",
       "    <tr>\n",
       "      <th>1</th>\n",
       "      <td>2014-10-20</td>\n",
       "      <td>22.900000</td>\n",
       "      <td>23.08</td>\n",
       "      <td>22.690001</td>\n",
       "      <td>22.93</td>\n",
       "      <td>16.765884</td>\n",
       "      <td>34386900</td>\n",
       "      <td>CSCO</td>\n",
       "    </tr>\n",
       "    <tr>\n",
       "      <th>2</th>\n",
       "      <td>2014-10-21</td>\n",
       "      <td>23.100000</td>\n",
       "      <td>23.60</td>\n",
       "      <td>22.959999</td>\n",
       "      <td>23.51</td>\n",
       "      <td>17.189964</td>\n",
       "      <td>33712700</td>\n",
       "      <td>CSCO</td>\n",
       "    </tr>\n",
       "    <tr>\n",
       "      <th>3</th>\n",
       "      <td>2014-10-22</td>\n",
       "      <td>23.670000</td>\n",
       "      <td>23.68</td>\n",
       "      <td>23.240000</td>\n",
       "      <td>23.26</td>\n",
       "      <td>17.007174</td>\n",
       "      <td>25172900</td>\n",
       "      <td>CSCO</td>\n",
       "    </tr>\n",
       "    <tr>\n",
       "      <th>4</th>\n",
       "      <td>2014-10-23</td>\n",
       "      <td>23.610001</td>\n",
       "      <td>23.76</td>\n",
       "      <td>23.420000</td>\n",
       "      <td>23.57</td>\n",
       "      <td>17.233839</td>\n",
       "      <td>21669900</td>\n",
       "      <td>CSCO</td>\n",
       "    </tr>\n",
       "  </tbody>\n",
       "</table>\n",
       "</div>"
      ],
      "text/plain": [
       "         Date       Open   High        Low  Close  Adj Close    Volume Symbol\n",
       "0  2014-10-17  22.980000  23.33  22.920000  23.25  16.999857  28485000   CSCO\n",
       "1  2014-10-20  22.900000  23.08  22.690001  22.93  16.765884  34386900   CSCO\n",
       "2  2014-10-21  23.100000  23.60  22.959999  23.51  17.189964  33712700   CSCO\n",
       "3  2014-10-22  23.670000  23.68  23.240000  23.26  17.007174  25172900   CSCO\n",
       "4  2014-10-23  23.610001  23.76  23.420000  23.57  17.233839  21669900   CSCO"
      ]
     },
     "execution_count": 120,
     "metadata": {},
     "output_type": "execute_result"
    }
   ],
   "source": [
    "data.head()"
   ]
  },
  {
   "cell_type": "code",
   "execution_count": 121,
   "id": "c607fc40-3423-4d88-a7a7-67b00b080bff",
   "metadata": {},
   "outputs": [],
   "source": [
    "data['Date'] = pd.to_datetime(data['Date'])"
   ]
  },
  {
   "cell_type": "code",
   "execution_count": 122,
   "id": "174dc0cc-41ff-43a5-acb9-83ca9b251477",
   "metadata": {},
   "outputs": [],
   "source": [
    "data['pct_change'] = data.groupby('Symbol')['Close'].pct_change() * 100"
   ]
  },
  {
   "cell_type": "code",
   "execution_count": 131,
   "id": "274ba14b-f2f9-4d37-bd60-891cdea54bc1",
   "metadata": {},
   "outputs": [
    {
     "data": {
      "text/html": [
       "<div>\n",
       "<style scoped>\n",
       "    .dataframe tbody tr th:only-of-type {\n",
       "        vertical-align: middle;\n",
       "    }\n",
       "\n",
       "    .dataframe tbody tr th {\n",
       "        vertical-align: top;\n",
       "    }\n",
       "\n",
       "    .dataframe thead th {\n",
       "        text-align: right;\n",
       "    }\n",
       "</style>\n",
       "<table border=\"1\" class=\"dataframe\">\n",
       "  <thead>\n",
       "    <tr style=\"text-align: right;\">\n",
       "      <th></th>\n",
       "      <th>Date</th>\n",
       "      <th>Open</th>\n",
       "      <th>High</th>\n",
       "      <th>Low</th>\n",
       "      <th>Close</th>\n",
       "      <th>Adj Close</th>\n",
       "      <th>Volume</th>\n",
       "      <th>Symbol</th>\n",
       "      <th>pct_change</th>\n",
       "    </tr>\n",
       "  </thead>\n",
       "  <tbody>\n",
       "    <tr>\n",
       "      <th>72786</th>\n",
       "      <td>2014-10-17</td>\n",
       "      <td>15.3575</td>\n",
       "      <td>15.4600</td>\n",
       "      <td>15.1360</td>\n",
       "      <td>15.1820</td>\n",
       "      <td>15.1820</td>\n",
       "      <td>88102000</td>\n",
       "      <td>AMZN</td>\n",
       "      <td>NaN</td>\n",
       "    </tr>\n",
       "    <tr>\n",
       "      <th>72787</th>\n",
       "      <td>2014-10-20</td>\n",
       "      <td>15.1475</td>\n",
       "      <td>15.3265</td>\n",
       "      <td>15.1010</td>\n",
       "      <td>15.3105</td>\n",
       "      <td>15.3105</td>\n",
       "      <td>64690000</td>\n",
       "      <td>AMZN</td>\n",
       "      <td>0.846397</td>\n",
       "    </tr>\n",
       "    <tr>\n",
       "      <th>72788</th>\n",
       "      <td>2014-10-21</td>\n",
       "      <td>15.4950</td>\n",
       "      <td>15.7820</td>\n",
       "      <td>15.3535</td>\n",
       "      <td>15.7665</td>\n",
       "      <td>15.7665</td>\n",
       "      <td>71186000</td>\n",
       "      <td>AMZN</td>\n",
       "      <td>2.978350</td>\n",
       "    </tr>\n",
       "    <tr>\n",
       "      <th>72789</th>\n",
       "      <td>2014-10-22</td>\n",
       "      <td>15.7715</td>\n",
       "      <td>15.9490</td>\n",
       "      <td>15.6320</td>\n",
       "      <td>15.6485</td>\n",
       "      <td>15.6485</td>\n",
       "      <td>62518000</td>\n",
       "      <td>AMZN</td>\n",
       "      <td>-0.748422</td>\n",
       "    </tr>\n",
       "    <tr>\n",
       "      <th>72790</th>\n",
       "      <td>2014-10-23</td>\n",
       "      <td>15.6700</td>\n",
       "      <td>15.8400</td>\n",
       "      <td>15.5700</td>\n",
       "      <td>15.6590</td>\n",
       "      <td>15.6590</td>\n",
       "      <td>180764000</td>\n",
       "      <td>AMZN</td>\n",
       "      <td>0.067099</td>\n",
       "    </tr>\n",
       "  </tbody>\n",
       "</table>\n",
       "</div>"
      ],
      "text/plain": [
       "            Date     Open     High      Low    Close  Adj Close     Volume  \\\n",
       "72786 2014-10-17  15.3575  15.4600  15.1360  15.1820    15.1820   88102000   \n",
       "72787 2014-10-20  15.1475  15.3265  15.1010  15.3105    15.3105   64690000   \n",
       "72788 2014-10-21  15.4950  15.7820  15.3535  15.7665    15.7665   71186000   \n",
       "72789 2014-10-22  15.7715  15.9490  15.6320  15.6485    15.6485   62518000   \n",
       "72790 2014-10-23  15.6700  15.8400  15.5700  15.6590    15.6590  180764000   \n",
       "\n",
       "      Symbol  pct_change  \n",
       "72786   AMZN         NaN  \n",
       "72787   AMZN    0.846397  \n",
       "72788   AMZN    2.978350  \n",
       "72789   AMZN   -0.748422  \n",
       "72790   AMZN    0.067099  "
      ]
     },
     "execution_count": 131,
     "metadata": {},
     "output_type": "execute_result"
    }
   ],
   "source": [
    "selected_ticker = \"AMZN\"\n",
    "\n",
    "stock_data = data[data['Symbol'] == selected_ticker].copy()\n",
    "stock_data = stock_data.sort_values('Date')\n",
    "\n",
    "stock_data.head()"
   ]
  },
  {
   "cell_type": "code",
   "execution_count": 132,
   "id": "0fee899d-7011-4c73-90e2-2298388278fc",
   "metadata": {},
   "outputs": [],
   "source": [
    "stock_data['SMA_5_pct'] = stock_data['pct_change'].rolling(window=5).mean()\n",
    "stock_data['EMA_5_pct'] = stock_data['pct_change'].ewm(span=5, adjust=False).mean()\n",
    "\n",
    "rsi = RSIIndicator(close=stock_data['pct_change'], window=5)\n",
    "stock_data['RSI_5_pct'] = rsi.rsi()\n",
    "\n",
    "macd = MACD(close=stock_data['pct_change'], window_slow=5, window_fast=3, window_sign=5)\n",
    "stock_data['MACD'] = macd.macd()\n",
    "stock_data['MACD_Signal'] = macd.macd_signal()\n",
    "\n",
    "stock_data['pct_change_shifted'] = stock_data['pct_change'].shift(-1)\n",
    "stock_data = stock_data.dropna(subset=['SMA_5_pct', 'EMA_5_pct', 'RSI_5_pct', 'MACD', 'MACD_Signal', 'pct_change_shifted'])"
   ]
  },
  {
   "cell_type": "code",
   "execution_count": 133,
   "id": "d8dbe69d-bd1d-48a9-861b-9e4da9ef0f1b",
   "metadata": {},
   "outputs": [],
   "source": [
    "train_size = int(0.8 * len(stock_data))\n",
    "train_data = stock_data[:train_size]\n",
    "test_data = stock_data[train_size:]\n",
    "\n",
    "features = ['SMA_5_pct', 'EMA_5_pct', 'RSI_5_pct', 'MACD', 'MACD_Signal']\n",
    "target = 'pct_change_shifted'\n",
    "\n",
    "X_train = train_data[features]\n",
    "y_train = train_data[target]\n",
    "\n",
    "X_test = test_data[features]\n",
    "y_test = test_data[target]"
   ]
  },
  {
   "cell_type": "code",
   "execution_count": 134,
   "id": "6771ef9e-bf5d-4cbd-b55e-a6c352c92f67",
   "metadata": {},
   "outputs": [],
   "source": [
    "model = LinearRegression()\n",
    "model.fit(X_train, y_train)\n",
    "\n",
    "y_pred = model.predict(X_test)"
   ]
  },
  {
   "cell_type": "code",
   "execution_count": 135,
   "id": "0e188b7f-78ef-4d03-b8fa-7cbe1c9cfae7",
   "metadata": {},
   "outputs": [
    {
     "name": "stdout",
     "output_type": "stream",
     "text": [
      "Correlation between actual and predicted percentage returns for AMZN: -0.0227\n"
     ]
    }
   ],
   "source": [
    "correlation = np.corrcoef(y_test, y_pred)[0, 1]\n",
    "print(f\"Correlation between actual and predicted percentage returns for {selected_ticker}: {correlation:.4f}\")"
   ]
  },
  {
   "cell_type": "code",
   "execution_count": 136,
   "id": "e87838a1-5064-4c7c-833b-2a81910a5db0",
   "metadata": {},
   "outputs": [
    {
     "name": "stdout",
     "output_type": "stream",
     "text": [
      "Correlation between predicted returns and SMA_5_pct: -0.3959\n",
      "Correlation between predicted returns and EMA_5_pct: -0.4769\n",
      "Correlation between predicted returns and RSI_5_pct: 0.1482\n",
      "Correlation between predicted returns and MACD: -0.2590\n",
      "Correlation between predicted returns and MACD_Signal: -0.3005\n"
     ]
    }
   ],
   "source": [
    "indicator_correlations = {}\n",
    "\n",
    "for feature in features:\n",
    "    correlation = np.corrcoef(X_test[feature], y_pred)[0, 1]\n",
    "    indicator_correlations[feature] = correlation\n",
    "\n",
    "for feature, corr in indicator_correlations.items():\n",
    "    print(f\"Correlation between predicted returns and {feature}: {corr:.4f}\")"
   ]
  },
  {
   "cell_type": "code",
   "execution_count": null,
   "id": "4a6fc62d-a107-495c-b46a-24b5c1e1b263",
   "metadata": {},
   "outputs": [],
   "source": []
  },
  {
   "cell_type": "code",
   "execution_count": null,
   "id": "d17ed04d-ff81-4db0-83b6-94f7c1663e56",
   "metadata": {},
   "outputs": [],
   "source": []
  }
 ],
 "metadata": {
  "kernelspec": {
   "display_name": "Python (myenv)",
   "language": "python",
   "name": "myenv"
  },
  "language_info": {
   "codemirror_mode": {
    "name": "ipython",
    "version": 3
   },
   "file_extension": ".py",
   "mimetype": "text/x-python",
   "name": "python",
   "nbconvert_exporter": "python",
   "pygments_lexer": "ipython3",
   "version": "3.9.20"
  }
 },
 "nbformat": 4,
 "nbformat_minor": 5
}
